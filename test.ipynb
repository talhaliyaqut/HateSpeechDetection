{
 "cells": [
  {
   "cell_type": "code",
   "execution_count": 1,
   "metadata": {},
   "outputs": [
    {
     "name": "stdout",
     "output_type": "stream",
     "text": [
      "Defaulting to user installation because normal site-packages is not writeable\n",
      "Collecting moviepy\n",
      "  Downloading moviepy-1.0.3.tar.gz (388 kB)\n",
      "     ---------------------------------------- 0.0/388.3 kB ? eta -:--:--\n",
      "     - -------------------------------------- 10.2/388.3 kB ? eta -:--:--\n",
      "     - ----------------------------------- 20.5/388.3 kB 217.9 kB/s eta 0:00:02\n",
      "     --- --------------------------------- 41.0/388.3 kB 279.3 kB/s eta 0:00:02\n",
      "     ------ ------------------------------ 71.7/388.3 kB 393.8 kB/s eta 0:00:01\n",
      "     ------------------- ---------------- 215.0/388.3 kB 935.2 kB/s eta 0:00:01\n",
      "     -------------------------------------  378.9/388.3 kB 1.5 MB/s eta 0:00:01\n",
      "     -------------------------------------- 388.3/388.3 kB 1.4 MB/s eta 0:00:00\n",
      "  Preparing metadata (setup.py): started\n",
      "  Preparing metadata (setup.py): finished with status 'done'\n",
      "Collecting decorator<5.0,>=4.0.2 (from moviepy)\n",
      "  Downloading decorator-4.4.2-py2.py3-none-any.whl.metadata (4.2 kB)\n",
      "Requirement already satisfied: imageio<3.0,>=2.5 in c:\\users\\hp\\appdata\\roaming\\python\\python311\\site-packages (from moviepy) (2.34.0)\n",
      "Collecting imageio_ffmpeg>=0.2.0 (from moviepy)\n",
      "  Downloading imageio_ffmpeg-0.4.9-py3-none-win_amd64.whl.metadata (1.7 kB)\n",
      "Requirement already satisfied: tqdm<5.0,>=4.11.2 in c:\\users\\hp\\appdata\\roaming\\python\\python311\\site-packages (from moviepy) (4.66.2)\n",
      "Requirement already satisfied: numpy>=1.17.3 in c:\\users\\hp\\appdata\\roaming\\python\\python311\\site-packages (from moviepy) (1.24.2)\n",
      "Requirement already satisfied: requests<3.0,>=2.8.1 in c:\\users\\hp\\appdata\\roaming\\python\\python311\\site-packages (from moviepy) (2.28.2)\n",
      "Collecting proglog<=1.0.0 (from moviepy)\n",
      "  Downloading proglog-0.1.10-py3-none-any.whl.metadata (639 bytes)\n",
      "Requirement already satisfied: pillow>=8.3.2 in c:\\users\\hp\\appdata\\roaming\\python\\python311\\site-packages (from imageio<3.0,>=2.5->moviepy) (10.2.0)\n",
      "Requirement already satisfied: setuptools in c:\\users\\hp\\appdata\\roaming\\python\\python311\\site-packages (from imageio_ffmpeg>=0.2.0->moviepy) (69.5.1)\n",
      "Requirement already satisfied: charset-normalizer<4,>=2 in c:\\users\\hp\\appdata\\roaming\\python\\python311\\site-packages (from requests<3.0,>=2.8.1->moviepy) (3.0.1)\n",
      "Requirement already satisfied: idna<4,>=2.5 in c:\\users\\hp\\appdata\\roaming\\python\\python311\\site-packages (from requests<3.0,>=2.8.1->moviepy) (2.10)\n",
      "Requirement already satisfied: urllib3<1.27,>=1.21.1 in c:\\users\\hp\\appdata\\roaming\\python\\python311\\site-packages (from requests<3.0,>=2.8.1->moviepy) (1.26.14)\n",
      "Requirement already satisfied: certifi>=2017.4.17 in c:\\users\\hp\\appdata\\roaming\\python\\python311\\site-packages (from requests<3.0,>=2.8.1->moviepy) (2022.12.7)\n",
      "Requirement already satisfied: colorama in c:\\users\\hp\\appdata\\roaming\\python\\python311\\site-packages (from tqdm<5.0,>=4.11.2->moviepy) (0.4.6)\n",
      "Downloading decorator-4.4.2-py2.py3-none-any.whl (9.2 kB)\n",
      "Downloading imageio_ffmpeg-0.4.9-py3-none-win_amd64.whl (22.6 MB)\n",
      "   ---------------------------------------- 0.0/22.6 MB ? eta -:--:--\n",
      "    --------------------------------------- 0.3/22.6 MB 10.2 MB/s eta 0:00:03\n",
      "   - -------------------------------------- 0.8/22.6 MB 12.4 MB/s eta 0:00:02\n",
      "   -- ------------------------------------- 1.3/22.6 MB 11.6 MB/s eta 0:00:02\n",
      "   --- ------------------------------------ 1.9/22.6 MB 12.1 MB/s eta 0:00:02\n",
      "   ---- ----------------------------------- 2.5/22.6 MB 11.2 MB/s eta 0:00:02\n",
      "   ----- ---------------------------------- 3.0/22.6 MB 11.3 MB/s eta 0:00:02\n",
      "   ------ --------------------------------- 3.4/22.6 MB 10.9 MB/s eta 0:00:02\n",
      "   ------- -------------------------------- 4.1/22.6 MB 11.3 MB/s eta 0:00:02\n",
      "   ------- -------------------------------- 4.3/22.6 MB 10.6 MB/s eta 0:00:02\n",
      "   -------- ------------------------------- 5.1/22.6 MB 11.1 MB/s eta 0:00:02\n",
      "   --------- ------------------------------ 5.2/22.6 MB 10.3 MB/s eta 0:00:02\n",
      "   ---------- ----------------------------- 5.9/22.6 MB 10.7 MB/s eta 0:00:02\n",
      "   ---------- ----------------------------- 6.2/22.6 MB 10.9 MB/s eta 0:00:02\n",
      "   ------------ --------------------------- 6.8/22.6 MB 10.6 MB/s eta 0:00:02\n",
      "   ------------- -------------------------- 7.4/22.6 MB 11.0 MB/s eta 0:00:02\n",
      "   ------------- -------------------------- 7.8/22.6 MB 10.6 MB/s eta 0:00:02\n",
      "   -------------- ------------------------- 8.5/22.6 MB 10.8 MB/s eta 0:00:02\n",
      "   --------------- ------------------------ 8.9/22.6 MB 10.6 MB/s eta 0:00:02\n",
      "   ---------------- ----------------------- 9.6/22.6 MB 10.7 MB/s eta 0:00:02\n",
      "   ----------------- ---------------------- 9.8/22.6 MB 11.0 MB/s eta 0:00:02\n",
      "   ------------------ --------------------- 10.5/22.6 MB 10.9 MB/s eta 0:00:02\n",
      "   ------------------- -------------------- 11.1/22.6 MB 10.9 MB/s eta 0:00:02\n",
      "   -------------------- ------------------- 11.5/22.6 MB 10.7 MB/s eta 0:00:02\n",
      "   -------------------- ------------------- 11.5/22.6 MB 10.7 MB/s eta 0:00:02\n",
      "   -------------------- ------------------- 11.6/22.6 MB 9.6 MB/s eta 0:00:02\n",
      "   --------------------- ------------------ 12.2/22.6 MB 9.6 MB/s eta 0:00:02\n",
      "   ---------------------- ----------------- 12.8/22.6 MB 9.6 MB/s eta 0:00:02\n",
      "   ----------------------- ---------------- 13.3/22.6 MB 9.9 MB/s eta 0:00:01\n",
      "   ------------------------ --------------- 13.7/22.6 MB 9.6 MB/s eta 0:00:01\n",
      "   ------------------------- -------------- 14.4/22.6 MB 9.9 MB/s eta 0:00:01\n",
      "   -------------------------- ------------- 14.9/22.6 MB 9.9 MB/s eta 0:00:01\n",
      "   -------------------------- ------------- 15.2/22.6 MB 9.6 MB/s eta 0:00:01\n",
      "   ---------------------------- ----------- 15.9/22.6 MB 9.9 MB/s eta 0:00:01\n",
      "   ----------------------------- ---------- 16.7/22.6 MB 10.2 MB/s eta 0:00:01\n",
      "   ----------------------------- ---------- 16.9/22.6 MB 9.9 MB/s eta 0:00:01\n",
      "   ------------------------------- -------- 17.7/22.6 MB 10.4 MB/s eta 0:00:01\n",
      "   ------------------------------- -------- 18.0/22.6 MB 10.1 MB/s eta 0:00:01\n",
      "   --------------------------------- ------ 18.7/22.6 MB 10.2 MB/s eta 0:00:01\n",
      "   ---------------------------------- ----- 19.4/22.6 MB 10.2 MB/s eta 0:00:01\n",
      "   ----------------------------------- ---- 20.0/22.6 MB 10.7 MB/s eta 0:00:01\n",
      "   ------------------------------------ --- 20.7/22.6 MB 10.7 MB/s eta 0:00:01\n",
      "   ------------------------------------- -- 21.3/22.6 MB 11.1 MB/s eta 0:00:01\n",
      "   -------------------------------------- - 22.0/22.6 MB 12.6 MB/s eta 0:00:01\n",
      "   ---------------------------------------  22.6/22.6 MB 12.6 MB/s eta 0:00:01\n",
      "   ---------------------------------------  22.6/22.6 MB 12.6 MB/s eta 0:00:01\n",
      "   ---------------------------------------  22.6/22.6 MB 12.6 MB/s eta 0:00:01\n",
      "   ---------------------------------------- 22.6/22.6 MB 11.1 MB/s eta 0:00:00\n",
      "Downloading proglog-0.1.10-py3-none-any.whl (6.1 kB)\n",
      "Building wheels for collected packages: moviepy\n",
      "  Building wheel for moviepy (setup.py): started\n",
      "  Building wheel for moviepy (setup.py): finished with status 'done'\n",
      "  Created wheel for moviepy: filename=moviepy-1.0.3-py3-none-any.whl size=110765 sha256=4887bda3866580a16925e13369e19d48ce370206743c5163cfd628adfe5c7f5d\n",
      "  Stored in directory: c:\\users\\hp\\appdata\\local\\pip\\cache\\wheels\\83\\b1\\d9\\119ef7c144b44d591ec0a9a140465133c23ea95d2a161184ba\n",
      "Successfully built moviepy\n",
      "Installing collected packages: imageio_ffmpeg, decorator, proglog, moviepy\n",
      "  Attempting uninstall: decorator\n",
      "    Found existing installation: decorator 5.1.1\n",
      "    Uninstalling decorator-5.1.1:\n",
      "      Successfully uninstalled decorator-5.1.1\n",
      "Successfully installed decorator-4.4.2 imageio_ffmpeg-0.4.9 moviepy-1.0.3 proglog-0.1.10\n"
     ]
    }
   ],
   "source": [
    "!pip install moviepy"
   ]
  },
  {
   "cell_type": "code",
   "execution_count": 2,
   "metadata": {},
   "outputs": [],
   "source": [
    "import moviepy.editor as mp\n",
    "import speech_recognition as sr\n",
    "\n"
   ]
  },
  {
   "cell_type": "code",
   "execution_count": 16,
   "metadata": {},
   "outputs": [],
   "source": [
    "video1 = mp.VideoFileClip('WhatsApp Video 2024-05-13 at 07.43.52 (1).mp4')"
   ]
  },
  {
   "cell_type": "code",
   "execution_count": 17,
   "metadata": {},
   "outputs": [],
   "source": [
    "audio_file = video1.audio\n",
    "# audio = audio_file.write_audiofile('temp.wav')\n"
   ]
  },
  {
   "cell_type": "code",
   "execution_count": 5,
   "metadata": {},
   "outputs": [
    {
     "data": {
      "text/plain": [
       "<moviepy.audio.io.AudioFileClip.AudioFileClip at 0x21760355e50>"
      ]
     },
     "execution_count": 5,
     "metadata": {},
     "output_type": "execute_result"
    }
   ],
   "source": [
    "audio_file"
   ]
  },
  {
   "cell_type": "code",
   "execution_count": 18,
   "metadata": {},
   "outputs": [
    {
     "name": "stdout",
     "output_type": "stream",
     "text": [
      "MoviePy - Writing audio in temp2.mp3\n"
     ]
    },
    {
     "name": "stderr",
     "output_type": "stream",
     "text": [
      "                                                                      "
     ]
    },
    {
     "name": "stdout",
     "output_type": "stream",
     "text": [
      "MoviePy - Done.\n"
     ]
    },
    {
     "name": "stderr",
     "output_type": "stream",
     "text": [
      "\r"
     ]
    }
   ],
   "source": [
    "audio = audio_file.write_audiofile('temp2.mp3')"
   ]
  },
  {
   "cell_type": "code",
   "execution_count": 6,
   "metadata": {},
   "outputs": [],
   "source": [
    "import os\n",
    "import whisper"
   ]
  },
  {
   "cell_type": "code",
   "execution_count": 10,
   "metadata": {},
   "outputs": [],
   "source": [
    "def transcribe_audio_from_data(file_data):\n",
    "    with open(\"temp.mp3\", \"wb\") as f:\n",
    "        f.write(file_data)\n",
    "    model = whisper.load_model(\"base\")\n",
    "    result = model.transcribe(\"temp.mp3\")\n",
    "    os.remove(\"temp.mp3\")\n",
    "    return result[\"text\"]\n"
   ]
  },
  {
   "cell_type": "code",
   "execution_count": 12,
   "metadata": {},
   "outputs": [],
   "source": [
    "audio"
   ]
  },
  {
   "cell_type": "code",
   "execution_count": 19,
   "metadata": {},
   "outputs": [
    {
     "data": {
      "text/plain": [
       "\" Hello, for Jackie, right? Yeah. How are you? You're like a white guy. What's that? Are you a white guy? Excuse me? I feel like I'm a normal guy. Like you speak English? Sorry. Sorry. No, you can get out of the bar. What? I'm like, I'm so worried. That's an appropriate. What? Just completely inappropriate. If somebody was not white sitting in the seat, what would be the difference? Are you serious? I said, wow, you're a white guy. No. That's okay. I'm not going to take the ride. You guys can get out. Really? Yeah. Completely inappropriate. Oh, you're a fucking soul. So long camera man. I can't run. You're going to try it in. Yeah, it's all right. Yeah. Wow. Because you guys are racist. You're a fucking asshole. Yeah. You're a fucking asshole. You're a fucking asshole. You're a fucking asshole. You're a fucking out of here. No. No, I'm calling the cops on you, man. It's all on camera. It's all on camera. It's all on camera.\""
      ]
     },
     "execution_count": 19,
     "metadata": {},
     "output_type": "execute_result"
    }
   ],
   "source": [
    "model = whisper.load_model(\"base\")\n",
    "result = model.transcribe(\"temp2.mp3\")\n",
    "os.remove(\"temp2.mp3\")\n",
    "result[\"text\"]"
   ]
  },
  {
   "cell_type": "code",
   "execution_count": 10,
   "metadata": {},
   "outputs": [
    {
     "name": "stdout",
     "output_type": "stream",
     "text": [
      "\n",
      "The resultant text from video is: \n",
      "\n",
      "you are a fucking bastard\n"
     ]
    }
   ],
   "source": [
    "r = sr.Recognizer() \n",
    "\n",
    "  \n",
    "# Load the audio file \n",
    "\n",
    "with sr.AudioFile(\"temp.wav\") as source: \n",
    "\n",
    "    data = r.record(source) \n",
    "\n",
    "  \n",
    "# Convert speech to text \n",
    "\n",
    "text = r.recognize_google(data) \n",
    "\n",
    "  \n",
    "# Print the text \n",
    "\n",
    "print(\"\\nThe resultant text from video is: \\n\") \n",
    "\n",
    "print(text)"
   ]
  },
  {
   "cell_type": "code",
   "execution_count": 3,
   "metadata": {},
   "outputs": [],
   "source": [
    "from youtube_transcript_api import YouTubeTranscriptApi\n",
    "from urllib.parse import urlparse\n",
    "from pytube import YouTube"
   ]
  },
  {
   "cell_type": "code",
   "execution_count": 6,
   "metadata": {},
   "outputs": [],
   "source": [
    "import whisper"
   ]
  },
  {
   "cell_type": "code",
   "execution_count": 10,
   "metadata": {},
   "outputs": [],
   "source": [
    "def get_transcript_from_url(url):\n",
    "    try:\n",
    "        url_data = urlparse(url)\n",
    "        id = url_data.query[2::]\n",
    "        script = YouTubeTranscriptApi.get_transcript(id)\n",
    "        transcript = \"\"\n",
    "        for text in script:\n",
    "            t = text[\"text\"]\n",
    "            if t != \"[Music]\":\n",
    "                transcript += t + \" \"\n",
    "        return transcript\n",
    "    except:\n",
    "        try:\n",
    "            try:\n",
    "                yt = YouTube(url)\n",
    "            except:\n",
    "                return \"Connection Error\"\n",
    "\n",
    "            stream = yt.streams.get_by_itag(251)\n",
    "            stream.download(\"\", \"temp.webm\")\n",
    "            model = whisper.load_model(\"base\")\n",
    "            result = model.transcribe(\"temp.webm\")\n",
    "            if os.path.exists(\"temp.webm\"):\n",
    "                os.remove(\"temp.webm\")\n",
    "            return result[\"text\"]\n",
    "        except Exception as e:\n",
    "            return f\"Error in fetching transcript {e}\""
   ]
  },
  {
   "cell_type": "code",
   "execution_count": 11,
   "metadata": {},
   "outputs": [
    {
     "data": {
      "text/plain": [
       "\" If you have time series data and you're trying to plot how something changes over time, a simple line plot can be really effective. Here I have data with MrBeast view counts on all of his videos over time. After formatting one of the date columns, I'm just going to pull out the rows for this video for seven days stranded at C. Now all we have to do is set the index to the pull date and we want to plot the view count column. We can plot with the kind equals to line. And there we go. To make things easier to read, I just added a title, and formatted the x and y labels. Now that we have the data plotted in front of us, we can see that most of the views came in very early, but it still has a steady increase over time.\""
      ]
     },
     "execution_count": 11,
     "metadata": {},
     "output_type": "execute_result"
    }
   ],
   "source": [
    "get_transcript_from_url('https://youtube.com/shorts/ArKLUgtIE0s?si=ZzFWcMIq-uc1cxR5')"
   ]
  }
 ],
 "metadata": {
  "kernelspec": {
   "display_name": "Python 3",
   "language": "python",
   "name": "python3"
  },
  "language_info": {
   "codemirror_mode": {
    "name": "ipython",
    "version": 3
   },
   "file_extension": ".py",
   "mimetype": "text/x-python",
   "name": "python",
   "nbconvert_exporter": "python",
   "pygments_lexer": "ipython3",
   "version": "3.11.8"
  }
 },
 "nbformat": 4,
 "nbformat_minor": 2
}
